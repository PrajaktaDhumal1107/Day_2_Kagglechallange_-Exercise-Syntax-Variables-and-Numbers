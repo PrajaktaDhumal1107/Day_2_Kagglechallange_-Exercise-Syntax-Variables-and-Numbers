{
 "cells": [
  {
   "cell_type": "markdown",
   "id": "af110099",
   "metadata": {
    "papermill": {
     "duration": 0.022524,
     "end_time": "2021-08-04T05:41:58.153540",
     "exception": false,
     "start_time": "2021-08-04T05:41:58.131016",
     "status": "completed"
    },
    "tags": []
   },
   "source": [
    "**This notebook is an exercise in the [Python](https://www.kaggle.com/learn/python) course.  You can reference the tutorial at [this link](https://www.kaggle.com/colinmorris/hello-python).**\n",
    "\n",
    "---\n"
   ]
  },
  {
   "cell_type": "markdown",
   "id": "7ecfc187",
   "metadata": {
    "papermill": {
     "duration": 0.020572,
     "end_time": "2021-08-04T05:41:58.197778",
     "exception": false,
     "start_time": "2021-08-04T05:41:58.177206",
     "status": "completed"
    },
    "tags": []
   },
   "source": [
    "Welcome to your first set of Python coding problems.  If this is your first time using Kaggle Notebooks, welcome! \n",
    "\n",
    "Notebooks are composed of blocks (called \"cells\") of text and code. Each of these is editable, though you'll mainly be editing the code cells to answer some questions.\n",
    "\n",
    "To get started, try running the code cell below (by pressing the ► button, or clicking on the cell and pressing ctrl+enter on your keyboard)."
   ]
  },
  {
   "cell_type": "code",
   "execution_count": 1,
   "id": "e0687d4e",
   "metadata": {
    "execution": {
     "iopub.execute_input": "2021-08-04T05:41:58.251940Z",
     "iopub.status.busy": "2021-08-04T05:41:58.250960Z",
     "iopub.status.idle": "2021-08-04T05:41:58.255205Z",
     "shell.execute_reply": "2021-08-04T05:41:58.255686Z",
     "shell.execute_reply.started": "2021-08-04T05:31:41.007287Z"
    },
    "papermill": {
     "duration": 0.037274,
     "end_time": "2021-08-04T05:41:58.255975",
     "exception": false,
     "start_time": "2021-08-04T05:41:58.218701",
     "status": "completed"
    },
    "tags": []
   },
   "outputs": [
    {
     "name": "stdout",
     "output_type": "stream",
     "text": [
      "You've successfully run some Python code\n",
      "Congratulations!\n"
     ]
    }
   ],
   "source": [
    "print(\"You've successfully run some Python code\")\n",
    "print(\"Congratulations!\")"
   ]
  },
  {
   "cell_type": "markdown",
   "id": "6b90a173",
   "metadata": {
    "papermill": {
     "duration": 0.025475,
     "end_time": "2021-08-04T05:41:58.303270",
     "exception": false,
     "start_time": "2021-08-04T05:41:58.277795",
     "status": "completed"
    },
    "tags": []
   },
   "source": [
    "Try adding another line of code in the cell above and re-running it. \n",
    "\n",
    "Now let's get a little fancier:  Add a new code cell by clicking on an existing code cell, hitting the escape key, and then hitting the `a` or `b` key.  The `a` key will add a cell above the current cell, and `b` adds a cell below.\n",
    "\n",
    "Great! Now you know how to use Notebooks.\n",
    "\n",
    "Each hands-on exercise starts by setting up our feedback and code checking mechanism. Run the code cell below to do that. Then you'll be ready to move on to question 0."
   ]
  },
  {
   "cell_type": "markdown",
   "id": "10167645",
   "metadata": {
    "papermill": {
     "duration": 0.033622,
     "end_time": "2021-08-04T05:41:58.363136",
     "exception": false,
     "start_time": "2021-08-04T05:41:58.329514",
     "status": "completed"
    },
    "tags": []
   },
   "source": [
    "# 0.\n",
    "\n",
    "*This is a silly question intended as an introduction to the format we use for hands-on exercises throughout all Kaggle courses.*\n",
    "\n",
    "**What is your favorite color? **\n",
    "\n",
    "To complete this question, create a variable called `color` in the cell below with an appropriate value. The function call `q0.check()` (which we've already provided in the cell below) will check your answer."
   ]
  },
  {
   "cell_type": "markdown",
   "id": "1736087d",
   "metadata": {
    "papermill": {
     "duration": 0.021275,
     "end_time": "2021-08-04T05:41:58.414228",
     "exception": false,
     "start_time": "2021-08-04T05:41:58.392953",
     "status": "completed"
    },
    "tags": []
   },
   "source": []
  },
  {
   "cell_type": "code",
   "execution_count": 2,
   "id": "ab2fbd6f",
   "metadata": {
    "_kg_hide-input": true,
    "_kg_hide-output": true,
    "execution": {
     "iopub.execute_input": "2021-08-04T05:41:58.462337Z",
     "iopub.status.busy": "2021-08-04T05:41:58.461668Z",
     "iopub.status.idle": "2021-08-04T05:41:58.597169Z",
     "shell.execute_reply": "2021-08-04T05:41:58.596584Z",
     "shell.execute_reply.started": "2021-08-04T05:31:48.989464Z"
    },
    "papermill": {
     "duration": 0.161556,
     "end_time": "2021-08-04T05:41:58.597311",
     "exception": false,
     "start_time": "2021-08-04T05:41:58.435755",
     "status": "completed"
    },
    "tags": []
   },
   "outputs": [
    {
     "name": "stdout",
     "output_type": "stream",
     "text": [
      "Setup complete! You're ready to start question 0.\n"
     ]
    }
   ],
   "source": [
    "from learntools.core import binder; binder.bind(globals())\n",
    "from learntools.python.ex1 import *\n",
    "print(\"Setup complete! You're ready to start question 0.\")"
   ]
  },
  {
   "cell_type": "markdown",
   "id": "66cb9f64",
   "metadata": {
    "papermill": {
     "duration": 0.021188,
     "end_time": "2021-08-04T05:41:58.640386",
     "exception": false,
     "start_time": "2021-08-04T05:41:58.619198",
     "status": "completed"
    },
    "tags": []
   },
   "source": []
  },
  {
   "cell_type": "code",
   "execution_count": 3,
   "id": "2b6ddec4",
   "metadata": {
    "execution": {
     "iopub.execute_input": "2021-08-04T05:41:58.693357Z",
     "iopub.status.busy": "2021-08-04T05:41:58.692323Z",
     "iopub.status.idle": "2021-08-04T05:41:58.698796Z",
     "shell.execute_reply": "2021-08-04T05:41:58.698175Z",
     "shell.execute_reply.started": "2021-08-04T05:33:37.599955Z"
    },
    "papermill": {
     "duration": 0.036292,
     "end_time": "2021-08-04T05:41:58.698941",
     "exception": false,
     "start_time": "2021-08-04T05:41:58.662649",
     "status": "completed"
    },
    "tags": []
   },
   "outputs": [
    {
     "data": {
      "application/javascript": [
       "parent.postMessage({\"jupyterEvent\": \"custom.exercise_interaction\", \"data\": {\"outcomeType\": 1, \"valueTowardsCompletion\": 0.25, \"interactionType\": 1, \"questionType\": 2, \"questionId\": \"0_ExerciseFormatTutorial\", \"learnToolsVersion\": \"0.3.4\", \"failureMessage\": \"\", \"exceptionClass\": \"\", \"trace\": \"\"}}, \"*\")"
      ],
      "text/plain": [
       "<IPython.core.display.Javascript object>"
      ]
     },
     "metadata": {},
     "output_type": "display_data"
    },
    {
     "data": {
      "text/markdown": [
       "<span style=\"color:#33cc33\">Correct:</span> What?! You got it right without needing a hint or anything? Drats. Well hey, you should still continue to the next step to get some practice asking for a hint and checking solutions. (Even though you obviously don't need any help here.)"
      ],
      "text/plain": [
       "Correct: What?! You got it right without needing a hint or anything? Drats. Well hey, you should still continue to the next step to get some practice asking for a hint and checking solutions. (Even though you obviously don't need any help here.)"
      ]
     },
     "metadata": {},
     "output_type": "display_data"
    }
   ],
   "source": [
    "# create a variable called color with an appropriate value on the line below\n",
    "# (Remember, strings in Python must be enclosed in 'single' or \"double\" quotes)\n",
    "____\n",
    "\n",
    "# Check your answer\n",
    "\n",
    "color = \"blue\"\n",
    "q0.check()"
   ]
  },
  {
   "cell_type": "markdown",
   "id": "65f71086",
   "metadata": {
    "papermill": {
     "duration": 0.022966,
     "end_time": "2021-08-04T05:41:58.745571",
     "exception": false,
     "start_time": "2021-08-04T05:41:58.722605",
     "status": "completed"
    },
    "tags": []
   },
   "source": [
    "Didn't get the right answer? How do you not even know your own favorite color?!\n",
    "\n",
    "Delete the `#` in the line below to make one of the lines run. You can choose between getting a hint or the full answer by choosing which line to remove the `#` from. \n",
    "\n",
    "Removing the `#` is called uncommenting, because it changes that line from a \"comment\" which Python doesn't run to code, which Python does run."
   ]
  },
  {
   "cell_type": "code",
   "execution_count": 4,
   "id": "6404c1dc",
   "metadata": {
    "execution": {
     "iopub.execute_input": "2021-08-04T05:41:58.795404Z",
     "iopub.status.busy": "2021-08-04T05:41:58.794742Z",
     "iopub.status.idle": "2021-08-04T05:41:58.797783Z",
     "shell.execute_reply": "2021-08-04T05:41:58.798236Z",
     "shell.execute_reply.started": "2021-08-04T05:33:45.926339Z"
    },
    "papermill": {
     "duration": 0.030354,
     "end_time": "2021-08-04T05:41:58.798418",
     "exception": false,
     "start_time": "2021-08-04T05:41:58.768064",
     "status": "completed"
    },
    "tags": []
   },
   "outputs": [],
   "source": [
    "#q0.hint()\n",
    "#q0.solution()"
   ]
  },
  {
   "cell_type": "markdown",
   "id": "643188bd",
   "metadata": {
    "papermill": {
     "duration": 0.022794,
     "end_time": "2021-08-04T05:41:58.843892",
     "exception": false,
     "start_time": "2021-08-04T05:41:58.821098",
     "status": "completed"
    },
    "tags": []
   },
   "source": [
    "The upcoming questions work the same way. The only thing that will change are the question numbers. For the next question, you'll call `q1.check()`, `q1.hint()`, `q1.solution()`, for question 2, you'll call `q2.check()`, and so on."
   ]
  },
  {
   "cell_type": "markdown",
   "id": "dd48441a",
   "metadata": {
    "papermill": {
     "duration": 0.022541,
     "end_time": "2021-08-04T05:41:58.889610",
     "exception": false,
     "start_time": "2021-08-04T05:41:58.867069",
     "status": "completed"
    },
    "tags": []
   },
   "source": [
    "<hr/>\n",
    "\n",
    "# 1.\n",
    "\n",
    "Complete the code below. In case it's helpful, here is the table of available arithmetic operations:\n",
    "\n",
    "\n",
    "\n",
    "| Operator     | Name           | Description                                            |\n",
    "|--------------|----------------|--------------------------------------------------------|\n",
    "| ``a + b``    | Addition       | Sum of ``a`` and ``b``                                 |\n",
    "| ``a - b``    | Subtraction    | Difference of ``a`` and ``b``                          |\n",
    "| ``a * b``    | Multiplication | Product of ``a`` and ``b``                             |\n",
    "| ``a / b``    | True division  | Quotient of ``a`` and ``b``                            |\n",
    "| ``a // b``   | Floor division | Quotient of ``a`` and ``b``, removing fractional parts |\n",
    "| ``a % b``    | Modulus        | Integer remainder after division of ``a`` by ``b``     |\n",
    "| ``a ** b``   | Exponentiation | ``a`` raised to the power of ``b``                     |\n",
    "| ``-a``       | Negation       | The negative of ``a``                                  |\n",
    "\n",
    "<span style=\"display:none\"></span>\n"
   ]
  },
  {
   "cell_type": "code",
   "execution_count": 5,
   "id": "875dca24",
   "metadata": {
    "execution": {
     "iopub.execute_input": "2021-08-04T05:41:58.941961Z",
     "iopub.status.busy": "2021-08-04T05:41:58.941112Z",
     "iopub.status.idle": "2021-08-04T05:41:58.946556Z",
     "shell.execute_reply": "2021-08-04T05:41:58.947019Z",
     "shell.execute_reply.started": "2021-08-04T05:36:03.301037Z"
    },
    "papermill": {
     "duration": 0.034633,
     "end_time": "2021-08-04T05:41:58.947195",
     "exception": false,
     "start_time": "2021-08-04T05:41:58.912562",
     "status": "completed"
    },
    "tags": []
   },
   "outputs": [
    {
     "data": {
      "application/javascript": [
       "parent.postMessage({\"jupyterEvent\": \"custom.exercise_interaction\", \"data\": {\"outcomeType\": 1, \"valueTowardsCompletion\": 0.25, \"interactionType\": 1, \"questionType\": 1, \"questionId\": \"1_CircleArea\", \"learnToolsVersion\": \"0.3.4\", \"failureMessage\": \"\", \"exceptionClass\": \"\", \"trace\": \"\"}}, \"*\")"
      ],
      "text/plain": [
       "<IPython.core.display.Javascript object>"
      ]
     },
     "metadata": {},
     "output_type": "display_data"
    },
    {
     "data": {
      "text/markdown": [
       "<span style=\"color:#33cc33\">Correct</span>"
      ],
      "text/plain": [
       "Correct"
      ]
     },
     "metadata": {},
     "output_type": "display_data"
    }
   ],
   "source": [
    "pi = 3.14159 # approximate\n",
    "diameter = 3\n",
    "\n",
    "# Create a variable called 'radius' equal to half the diameter\n",
    "radius = diameter/2\n",
    "\n",
    "# Create a variable called 'area', using the formula for the area of a circle: pi times the radius squared\n",
    "area = pi*radius*radius\n",
    "\n",
    "# Check your answer\n",
    "q1.check()"
   ]
  },
  {
   "cell_type": "code",
   "execution_count": 6,
   "id": "99f53cd9",
   "metadata": {
    "execution": {
     "iopub.execute_input": "2021-08-04T05:41:58.997842Z",
     "iopub.status.busy": "2021-08-04T05:41:58.996922Z",
     "iopub.status.idle": "2021-08-04T05:41:59.000457Z",
     "shell.execute_reply": "2021-08-04T05:41:59.000949Z"
    },
    "papermill": {
     "duration": 0.030476,
     "end_time": "2021-08-04T05:41:59.001144",
     "exception": false,
     "start_time": "2021-08-04T05:41:58.970668",
     "status": "completed"
    },
    "tags": []
   },
   "outputs": [],
   "source": [
    "# Uncomment and run the lines below if you need help.\n",
    "#q1.hint()\n",
    "#q1.solution()"
   ]
  },
  {
   "cell_type": "markdown",
   "id": "a651675e",
   "metadata": {
    "papermill": {
     "duration": 0.023353,
     "end_time": "2021-08-04T05:41:59.048531",
     "exception": false,
     "start_time": "2021-08-04T05:41:59.025178",
     "status": "completed"
    },
    "tags": []
   },
   "source": [
    "<hr/>\n",
    "\n",
    "# 2.\n",
    "\n",
    "Add code to the following cell to swap variables `a` and `b` (so that `a` refers to the object previously referred to by `b` and vice versa)."
   ]
  },
  {
   "cell_type": "code",
   "execution_count": 7,
   "id": "7293c439",
   "metadata": {
    "execution": {
     "iopub.execute_input": "2021-08-04T05:41:59.099472Z",
     "iopub.status.busy": "2021-08-04T05:41:59.098461Z",
     "iopub.status.idle": "2021-08-04T05:41:59.107416Z",
     "shell.execute_reply": "2021-08-04T05:41:59.107967Z",
     "shell.execute_reply.started": "2021-08-04T05:37:04.160397Z"
    },
    "papermill": {
     "duration": 0.036065,
     "end_time": "2021-08-04T05:41:59.108146",
     "exception": false,
     "start_time": "2021-08-04T05:41:59.072081",
     "status": "completed"
    },
    "tags": []
   },
   "outputs": [
    {
     "data": {
      "application/javascript": [
       "parent.postMessage({\"jupyterEvent\": \"custom.exercise_interaction\", \"data\": {\"outcomeType\": 1, \"valueTowardsCompletion\": 0.25, \"interactionType\": 1, \"questionType\": 2, \"questionId\": \"2_VariableSwap\", \"learnToolsVersion\": \"0.3.4\", \"failureMessage\": \"\", \"exceptionClass\": \"\", \"trace\": \"\"}}, \"*\")"
      ],
      "text/plain": [
       "<IPython.core.display.Javascript object>"
      ]
     },
     "metadata": {},
     "output_type": "display_data"
    },
    {
     "data": {
      "text/markdown": [
       "<span style=\"color:#33cc33\">Correct:</span> \n",
       "\n",
       "The most straightforward solution is to use a third variable to temporarily store one of the old values. e.g.:\n",
       "\n",
       "    tmp = a\n",
       "    a = b\n",
       "    b = tmp\n",
       "\n",
       "If you've read lots of Python code, you might have seen the following trick to swap two variables in one line:\n",
       "\n",
       "    a, b = b, a\n",
       "\n",
       "We'll demystify this bit of Python magic later when we talk about *tuples*."
      ],
      "text/plain": [
       "Correct: \n",
       "\n",
       "The most straightforward solution is to use a third variable to temporarily store one of the old values. e.g.:\n",
       "\n",
       "    tmp = a\n",
       "    a = b\n",
       "    b = tmp\n",
       "\n",
       "If you've read lots of Python code, you might have seen the following trick to swap two variables in one line:\n",
       "\n",
       "    a, b = b, a\n",
       "\n",
       "We'll demystify this bit of Python magic later when we talk about *tuples*."
      ]
     },
     "metadata": {},
     "output_type": "display_data"
    }
   ],
   "source": [
    "########### Setup code - don't touch this part ######################\n",
    "# If you're curious, these are examples of lists. We'll talk about \n",
    "# them in depth a few lessons from now. For now, just know that they're\n",
    "# yet another type of Python object, like int or float.\n",
    "a = [1, 2, 3]\n",
    "b = [3, 2, 1]\n",
    "q2.store_original_ids()\n",
    "######################################################################\n",
    "\n",
    "# Your code goes here. Swap the values to which a and b refer.\n",
    "# If you get stuck, you can always uncomment one or both of the lines in\n",
    "# the next cell for a hint, or to peek at the solution.\n",
    "c=a\n",
    "d=b\n",
    "a=d\n",
    "b=c\n",
    "\n",
    "######################################################################\n",
    "\n",
    "# Check your answer\n",
    "q2.check()"
   ]
  },
  {
   "cell_type": "code",
   "execution_count": 8,
   "id": "01dc59ee",
   "metadata": {
    "execution": {
     "iopub.execute_input": "2021-08-04T05:41:59.162716Z",
     "iopub.status.busy": "2021-08-04T05:41:59.161641Z",
     "iopub.status.idle": "2021-08-04T05:41:59.165780Z",
     "shell.execute_reply": "2021-08-04T05:41:59.166264Z"
    },
    "papermill": {
     "duration": 0.033063,
     "end_time": "2021-08-04T05:41:59.166448",
     "exception": false,
     "start_time": "2021-08-04T05:41:59.133385",
     "status": "completed"
    },
    "tags": []
   },
   "outputs": [],
   "source": [
    "#q2.hint()"
   ]
  },
  {
   "cell_type": "code",
   "execution_count": 9,
   "id": "a5ed491d",
   "metadata": {
    "execution": {
     "iopub.execute_input": "2021-08-04T05:41:59.221975Z",
     "iopub.status.busy": "2021-08-04T05:41:59.221024Z",
     "iopub.status.idle": "2021-08-04T05:41:59.224516Z",
     "shell.execute_reply": "2021-08-04T05:41:59.225059Z"
    },
    "papermill": {
     "duration": 0.032088,
     "end_time": "2021-08-04T05:41:59.225231",
     "exception": false,
     "start_time": "2021-08-04T05:41:59.193143",
     "status": "completed"
    },
    "tags": []
   },
   "outputs": [],
   "source": [
    "#q2.solution()"
   ]
  },
  {
   "cell_type": "markdown",
   "id": "e9c54f2a",
   "metadata": {
    "papermill": {
     "duration": 0.025376,
     "end_time": "2021-08-04T05:41:59.275993",
     "exception": false,
     "start_time": "2021-08-04T05:41:59.250617",
     "status": "completed"
    },
    "tags": []
   },
   "source": [
    "<hr/>\n",
    "\n",
    "# 3a.\n",
    "\n",
    "Add parentheses to the following expression so that it evaluates to 1."
   ]
  },
  {
   "cell_type": "code",
   "execution_count": 10,
   "id": "4c186a26",
   "metadata": {
    "execution": {
     "iopub.execute_input": "2021-08-04T05:41:59.331641Z",
     "iopub.status.busy": "2021-08-04T05:41:59.330579Z",
     "iopub.status.idle": "2021-08-04T05:41:59.338147Z",
     "shell.execute_reply": "2021-08-04T05:41:59.337559Z",
     "shell.execute_reply.started": "2021-08-04T05:37:36.548653Z"
    },
    "papermill": {
     "duration": 0.037294,
     "end_time": "2021-08-04T05:41:59.338294",
     "exception": false,
     "start_time": "2021-08-04T05:41:59.301000",
     "status": "completed"
    },
    "tags": []
   },
   "outputs": [
    {
     "data": {
      "text/plain": [
       "1"
      ]
     },
     "execution_count": 10,
     "metadata": {},
     "output_type": "execute_result"
    }
   ],
   "source": [
    "(5 - 3) // 2"
   ]
  },
  {
   "cell_type": "code",
   "execution_count": 11,
   "id": "862ee248",
   "metadata": {
    "execution": {
     "iopub.execute_input": "2021-08-04T05:41:59.402794Z",
     "iopub.status.busy": "2021-08-04T05:41:59.401795Z",
     "iopub.status.idle": "2021-08-04T05:41:59.406737Z",
     "shell.execute_reply": "2021-08-04T05:41:59.405793Z",
     "shell.execute_reply.started": "2021-08-04T05:38:11.581840Z"
    },
    "papermill": {
     "duration": 0.039095,
     "end_time": "2021-08-04T05:41:59.406937",
     "exception": false,
     "start_time": "2021-08-04T05:41:59.367842",
     "status": "completed"
    },
    "tags": []
   },
   "outputs": [],
   "source": [
    "#q3.a.hint()"
   ]
  },
  {
   "cell_type": "code",
   "execution_count": 12,
   "id": "ed3e168d",
   "metadata": {
    "execution": {
     "iopub.execute_input": "2021-08-04T05:41:59.479175Z",
     "iopub.status.busy": "2021-08-04T05:41:59.478380Z",
     "iopub.status.idle": "2021-08-04T05:41:59.482941Z",
     "shell.execute_reply": "2021-08-04T05:41:59.483460Z",
     "shell.execute_reply.started": "2021-08-04T05:38:19.851332Z"
    },
    "papermill": {
     "duration": 0.040549,
     "end_time": "2021-08-04T05:41:59.483656",
     "exception": false,
     "start_time": "2021-08-04T05:41:59.443107",
     "status": "completed"
    },
    "tags": []
   },
   "outputs": [
    {
     "data": {
      "application/javascript": [
       "parent.postMessage({\"jupyterEvent\": \"custom.exercise_interaction\", \"data\": {\"interactionType\": 3, \"questionType\": 4, \"questionId\": \"3.1_ArithmeticParensEasy\", \"learnToolsVersion\": \"0.3.4\", \"valueTowardsCompletion\": 0.0, \"failureMessage\": \"\", \"exceptionClass\": \"\", \"trace\": \"\", \"outcomeType\": 4}}, \"*\")"
      ],
      "text/plain": [
       "<IPython.core.display.Javascript object>"
      ]
     },
     "metadata": {},
     "output_type": "display_data"
    },
    {
     "data": {
      "text/markdown": [
       "<span style=\"color:#33cc99\">Solution:</span> \n",
       "```python\n",
       "(5 - 3) // 2\n",
       "```"
      ],
      "text/plain": [
       "Solution: \n",
       "```python\n",
       "(5 - 3) // 2\n",
       "```"
      ]
     },
     "metadata": {},
     "output_type": "display_data"
    }
   ],
   "source": [
    "# Check your answer (Run this code cell to receive credit!)\n",
    "q3.a.solution()"
   ]
  },
  {
   "cell_type": "markdown",
   "id": "73dd5caf",
   "metadata": {
    "papermill": {
     "duration": 0.025912,
     "end_time": "2021-08-04T05:41:59.536054",
     "exception": false,
     "start_time": "2021-08-04T05:41:59.510142",
     "status": "completed"
    },
    "tags": []
   },
   "source": [
    "# 3b.  <span title=\"A bit spicy\" style=\"color: darkgreen \">🌶️</span>\n",
    "\n",
    "<small>Questions, like this one, marked a spicy pepper are a bit harder.</small>\n",
    "\n",
    "Add parentheses to the following expression so that it evaluates to 0."
   ]
  },
  {
   "cell_type": "code",
   "execution_count": 13,
   "id": "652d748b",
   "metadata": {
    "execution": {
     "iopub.execute_input": "2021-08-04T05:41:59.594759Z",
     "iopub.status.busy": "2021-08-04T05:41:59.594070Z",
     "iopub.status.idle": "2021-08-04T05:41:59.597066Z",
     "shell.execute_reply": "2021-08-04T05:41:59.597563Z",
     "shell.execute_reply.started": "2021-08-04T05:38:57.435327Z"
    },
    "papermill": {
     "duration": 0.034693,
     "end_time": "2021-08-04T05:41:59.597734",
     "exception": false,
     "start_time": "2021-08-04T05:41:59.563041",
     "status": "completed"
    },
    "tags": []
   },
   "outputs": [
    {
     "data": {
      "text/plain": [
       "0"
      ]
     },
     "execution_count": 13,
     "metadata": {},
     "output_type": "execute_result"
    }
   ],
   "source": [
    "8 - (3 * 2) - (1 + 1)"
   ]
  },
  {
   "cell_type": "code",
   "execution_count": 14,
   "id": "180ae676",
   "metadata": {
    "execution": {
     "iopub.execute_input": "2021-08-04T05:41:59.654112Z",
     "iopub.status.busy": "2021-08-04T05:41:59.653305Z",
     "iopub.status.idle": "2021-08-04T05:41:59.657947Z",
     "shell.execute_reply": "2021-08-04T05:41:59.657331Z"
    },
    "papermill": {
     "duration": 0.033932,
     "end_time": "2021-08-04T05:41:59.658100",
     "exception": false,
     "start_time": "2021-08-04T05:41:59.624168",
     "status": "completed"
    },
    "tags": []
   },
   "outputs": [],
   "source": [
    "#q3.b.hint()"
   ]
  },
  {
   "cell_type": "code",
   "execution_count": 15,
   "id": "b224d5ee",
   "metadata": {
    "execution": {
     "iopub.execute_input": "2021-08-04T05:41:59.715249Z",
     "iopub.status.busy": "2021-08-04T05:41:59.714547Z",
     "iopub.status.idle": "2021-08-04T05:41:59.721974Z",
     "shell.execute_reply": "2021-08-04T05:41:59.722470Z",
     "shell.execute_reply.started": "2021-08-04T05:39:05.520095Z"
    },
    "papermill": {
     "duration": 0.037682,
     "end_time": "2021-08-04T05:41:59.722685",
     "exception": false,
     "start_time": "2021-08-04T05:41:59.685003",
     "status": "completed"
    },
    "tags": []
   },
   "outputs": [
    {
     "data": {
      "application/javascript": [
       "parent.postMessage({\"jupyterEvent\": \"custom.exercise_interaction\", \"data\": {\"interactionType\": 3, \"questionType\": 4, \"questionId\": \"3.2_ArithmeticParensHard\", \"learnToolsVersion\": \"0.3.4\", \"valueTowardsCompletion\": 0.0, \"failureMessage\": \"\", \"exceptionClass\": \"\", \"trace\": \"\", \"outcomeType\": 4}}, \"*\")"
      ],
      "text/plain": [
       "<IPython.core.display.Javascript object>"
      ]
     },
     "metadata": {},
     "output_type": "display_data"
    },
    {
     "data": {
      "text/markdown": [
       "<span style=\"color:#33cc99\">Solution:</span> `(8 - 3) * (2 - (1 + 1))` is one solution. There may be others."
      ],
      "text/plain": [
       "Solution: `(8 - 3) * (2 - (1 + 1))` is one solution. There may be others."
      ]
     },
     "metadata": {},
     "output_type": "display_data"
    }
   ],
   "source": [
    "# Check your answer (Run this code cell to receive credit!)\n",
    "q3.b.solution()"
   ]
  },
  {
   "cell_type": "markdown",
   "id": "c2dc2f60",
   "metadata": {
    "papermill": {
     "duration": 0.027782,
     "end_time": "2021-08-04T05:41:59.779598",
     "exception": false,
     "start_time": "2021-08-04T05:41:59.751816",
     "status": "completed"
    },
    "tags": []
   },
   "source": [
    "<hr/>\n",
    "\n",
    "# 4. \n",
    "Alice, Bob and Carol have agreed to pool their Halloween candy and split it evenly among themselves.\n",
    "For the sake of their friendship, any candies left over will be smashed. For example, if they collectively\n",
    "bring home 91 candies, they'll take 30 each and smash 1.\n",
    "\n",
    "Write an arithmetic expression below to calculate how many candies they must smash for a given haul."
   ]
  },
  {
   "cell_type": "code",
   "execution_count": 16,
   "id": "23f68185",
   "metadata": {
    "execution": {
     "iopub.execute_input": "2021-08-04T05:41:59.845185Z",
     "iopub.status.busy": "2021-08-04T05:41:59.844180Z",
     "iopub.status.idle": "2021-08-04T05:41:59.850432Z",
     "shell.execute_reply": "2021-08-04T05:41:59.849876Z",
     "shell.execute_reply.started": "2021-08-04T05:41:08.090485Z"
    },
    "papermill": {
     "duration": 0.041519,
     "end_time": "2021-08-04T05:41:59.850618",
     "exception": false,
     "start_time": "2021-08-04T05:41:59.809099",
     "status": "completed"
    },
    "tags": []
   },
   "outputs": [
    {
     "data": {
      "application/javascript": [
       "parent.postMessage({\"jupyterEvent\": \"custom.exercise_interaction\", \"data\": {\"outcomeType\": 1, \"valueTowardsCompletion\": 0.25, \"interactionType\": 1, \"questionType\": 1, \"questionId\": \"4_CandySplitting\", \"learnToolsVersion\": \"0.3.4\", \"failureMessage\": \"\", \"exceptionClass\": \"\", \"trace\": \"\"}}, \"*\")"
      ],
      "text/plain": [
       "<IPython.core.display.Javascript object>"
      ]
     },
     "metadata": {},
     "output_type": "display_data"
    },
    {
     "data": {
      "text/markdown": [
       "<span style=\"color:#33cc33\">Correct</span>"
      ],
      "text/plain": [
       "Correct"
      ]
     },
     "metadata": {},
     "output_type": "display_data"
    }
   ],
   "source": [
    "# Variables representing the number of candies collected by alice, bob, and carol\n",
    "alice_candies = 121\n",
    "bob_candies = 77\n",
    "carol_candies = 109\n",
    "\n",
    "# Your code goes here! Replace the right-hand side of this assignment with an expression\n",
    "# involving alice_candies, bob_candies, and carol_candies\n",
    "total = alice_candies + bob_candies + carol_candies\n",
    "to_smash = total % 3\n",
    "\n",
    "# Check your answer\n",
    "q4.check()"
   ]
  },
  {
   "cell_type": "code",
   "execution_count": 17,
   "id": "3a75ca74",
   "metadata": {
    "execution": {
     "iopub.execute_input": "2021-08-04T05:41:59.913694Z",
     "iopub.status.busy": "2021-08-04T05:41:59.912822Z",
     "iopub.status.idle": "2021-08-04T05:41:59.915819Z",
     "shell.execute_reply": "2021-08-04T05:41:59.915223Z",
     "shell.execute_reply.started": "2021-08-04T05:41:21.347352Z"
    },
    "papermill": {
     "duration": 0.03614,
     "end_time": "2021-08-04T05:41:59.915977",
     "exception": false,
     "start_time": "2021-08-04T05:41:59.879837",
     "status": "completed"
    },
    "tags": []
   },
   "outputs": [],
   "source": [
    "#q4.hint()\n",
    "#q4.solution()"
   ]
  },
  {
   "cell_type": "markdown",
   "id": "89455a82",
   "metadata": {
    "papermill": {
     "duration": 0.029824,
     "end_time": "2021-08-04T05:41:59.974885",
     "exception": false,
     "start_time": "2021-08-04T05:41:59.945061",
     "status": "completed"
    },
    "tags": []
   },
   "source": [
    "# Keep Going\n",
    "\n",
    "Next up, you'll **[learn to write new functions and understand functions others write](https://www.kaggle.com/colinmorris/functions-and-getting-help)**. This will make you at least 10 times more productive as a Python programmer. "
   ]
  },
  {
   "cell_type": "markdown",
   "id": "67b98768",
   "metadata": {
    "papermill": {
     "duration": 0.02955,
     "end_time": "2021-08-04T05:42:00.034841",
     "exception": false,
     "start_time": "2021-08-04T05:42:00.005291",
     "status": "completed"
    },
    "tags": []
   },
   "source": [
    "---\n",
    "\n",
    "\n",
    "\n",
    "\n",
    "*Have questions or comments? Visit the [Learn Discussion forum](https://www.kaggle.com/learn-forum/161283) to chat with other Learners.*"
   ]
  }
 ],
 "metadata": {
  "kernelspec": {
   "display_name": "Python 3",
   "language": "python",
   "name": "python3"
  },
  "language_info": {
   "codemirror_mode": {
    "name": "ipython",
    "version": 3
   },
   "file_extension": ".py",
   "mimetype": "text/x-python",
   "name": "python",
   "nbconvert_exporter": "python",
   "pygments_lexer": "ipython3",
   "version": "3.7.10"
  },
  "papermill": {
   "default_parameters": {},
   "duration": 11.902766,
   "end_time": "2021-08-04T05:42:01.552657",
   "environment_variables": {},
   "exception": null,
   "input_path": "__notebook__.ipynb",
   "output_path": "__notebook__.ipynb",
   "parameters": {},
   "start_time": "2021-08-04T05:41:49.649891",
   "version": "2.3.3"
  }
 },
 "nbformat": 4,
 "nbformat_minor": 5
}
